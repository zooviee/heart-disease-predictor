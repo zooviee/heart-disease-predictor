{
 "cells": [
  {
   "cell_type": "code",
   "execution_count": 1,
   "id": "883f3988-5ea6-4ae1-a775-1d84f19d1abb",
   "metadata": {},
   "outputs": [],
   "source": [
    "import pandas as pd\n",
    "import numpy as np\n",
    "import matplotlib.pyplot as plt\n",
    "import seaborn as sns\n",
    "%matplotlib inline\n",
    "\n",
    "from sklearn.preprocessing import StandardScaler\n",
    "from sklearn.model_selection import train_test_split\n",
    "\n",
    "# Classification models\n",
    "from sklearn.linear_model import LogisticRegression\n",
    "from sklearn.discriminant_analysis import LinearDiscriminantAnalysis\n",
    "from sklearn.neighbors import KNeighborsClassifier\n",
    "from sklearn.tree import DecisionTreeClassifier\n",
    "from sklearn.naive_bayes import GaussianNB\n",
    "from sklearn.svm import SVC\n",
    "from sklearn.ensemble import RandomForestClassifier\n",
    "from xgboost import XGBClassifier\n",
    "\n",
    "from sklearn.metrics import accuracy_score, confusion_matrix, classification_report, roc_auc_score, roc_curve\n",
    "\n",
    "# Ignore warnings\n",
    "import warnings\n",
    "warnings.filterwarnings('ignore')"
   ]
  },
  {
   "cell_type": "markdown",
   "id": "eeb95cef-d441-46fc-b517-45c24a979b93",
   "metadata": {},
   "source": [
    "# Import Data into a Dataframe"
   ]
  },
  {
   "cell_type": "code",
   "execution_count": 2,
   "id": "895650ea-5494-4f4b-93a2-69b38bec7a2a",
   "metadata": {},
   "outputs": [
    {
     "ename": "FileNotFoundError",
     "evalue": "[Errno 2] No such file or directory: 'heart_disease_train.csv'",
     "output_type": "error",
     "traceback": [
      "\u001b[0;31m---------------------------------------------------------------------------\u001b[0m",
      "\u001b[0;31mFileNotFoundError\u001b[0m                         Traceback (most recent call last)",
      "Cell \u001b[0;32mIn[2], line 1\u001b[0m\n\u001b[0;32m----> 1\u001b[0m df \u001b[38;5;241m=\u001b[39m pd\u001b[38;5;241m.\u001b[39mread_csv(\u001b[38;5;124m'\u001b[39m\u001b[38;5;124mheart_disease_train.csv\u001b[39m\u001b[38;5;124m'\u001b[39m)\n",
      "File \u001b[0;32m/opt/anaconda3/envs/Alx_python/lib/python3.12/site-packages/pandas/io/parsers/readers.py:1026\u001b[0m, in \u001b[0;36mread_csv\u001b[0;34m(filepath_or_buffer, sep, delimiter, header, names, index_col, usecols, dtype, engine, converters, true_values, false_values, skipinitialspace, skiprows, skipfooter, nrows, na_values, keep_default_na, na_filter, verbose, skip_blank_lines, parse_dates, infer_datetime_format, keep_date_col, date_parser, date_format, dayfirst, cache_dates, iterator, chunksize, compression, thousands, decimal, lineterminator, quotechar, quoting, doublequote, escapechar, comment, encoding, encoding_errors, dialect, on_bad_lines, delim_whitespace, low_memory, memory_map, float_precision, storage_options, dtype_backend)\u001b[0m\n\u001b[1;32m   1013\u001b[0m kwds_defaults \u001b[38;5;241m=\u001b[39m _refine_defaults_read(\n\u001b[1;32m   1014\u001b[0m     dialect,\n\u001b[1;32m   1015\u001b[0m     delimiter,\n\u001b[0;32m   (...)\u001b[0m\n\u001b[1;32m   1022\u001b[0m     dtype_backend\u001b[38;5;241m=\u001b[39mdtype_backend,\n\u001b[1;32m   1023\u001b[0m )\n\u001b[1;32m   1024\u001b[0m kwds\u001b[38;5;241m.\u001b[39mupdate(kwds_defaults)\n\u001b[0;32m-> 1026\u001b[0m \u001b[38;5;28;01mreturn\u001b[39;00m _read(filepath_or_buffer, kwds)\n",
      "File \u001b[0;32m/opt/anaconda3/envs/Alx_python/lib/python3.12/site-packages/pandas/io/parsers/readers.py:620\u001b[0m, in \u001b[0;36m_read\u001b[0;34m(filepath_or_buffer, kwds)\u001b[0m\n\u001b[1;32m    617\u001b[0m _validate_names(kwds\u001b[38;5;241m.\u001b[39mget(\u001b[38;5;124m\"\u001b[39m\u001b[38;5;124mnames\u001b[39m\u001b[38;5;124m\"\u001b[39m, \u001b[38;5;28;01mNone\u001b[39;00m))\n\u001b[1;32m    619\u001b[0m \u001b[38;5;66;03m# Create the parser.\u001b[39;00m\n\u001b[0;32m--> 620\u001b[0m parser \u001b[38;5;241m=\u001b[39m TextFileReader(filepath_or_buffer, \u001b[38;5;241m*\u001b[39m\u001b[38;5;241m*\u001b[39mkwds)\n\u001b[1;32m    622\u001b[0m \u001b[38;5;28;01mif\u001b[39;00m chunksize \u001b[38;5;129;01mor\u001b[39;00m iterator:\n\u001b[1;32m    623\u001b[0m     \u001b[38;5;28;01mreturn\u001b[39;00m parser\n",
      "File \u001b[0;32m/opt/anaconda3/envs/Alx_python/lib/python3.12/site-packages/pandas/io/parsers/readers.py:1620\u001b[0m, in \u001b[0;36mTextFileReader.__init__\u001b[0;34m(self, f, engine, **kwds)\u001b[0m\n\u001b[1;32m   1617\u001b[0m     \u001b[38;5;28mself\u001b[39m\u001b[38;5;241m.\u001b[39moptions[\u001b[38;5;124m\"\u001b[39m\u001b[38;5;124mhas_index_names\u001b[39m\u001b[38;5;124m\"\u001b[39m] \u001b[38;5;241m=\u001b[39m kwds[\u001b[38;5;124m\"\u001b[39m\u001b[38;5;124mhas_index_names\u001b[39m\u001b[38;5;124m\"\u001b[39m]\n\u001b[1;32m   1619\u001b[0m \u001b[38;5;28mself\u001b[39m\u001b[38;5;241m.\u001b[39mhandles: IOHandles \u001b[38;5;241m|\u001b[39m \u001b[38;5;28;01mNone\u001b[39;00m \u001b[38;5;241m=\u001b[39m \u001b[38;5;28;01mNone\u001b[39;00m\n\u001b[0;32m-> 1620\u001b[0m \u001b[38;5;28mself\u001b[39m\u001b[38;5;241m.\u001b[39m_engine \u001b[38;5;241m=\u001b[39m \u001b[38;5;28mself\u001b[39m\u001b[38;5;241m.\u001b[39m_make_engine(f, \u001b[38;5;28mself\u001b[39m\u001b[38;5;241m.\u001b[39mengine)\n",
      "File \u001b[0;32m/opt/anaconda3/envs/Alx_python/lib/python3.12/site-packages/pandas/io/parsers/readers.py:1880\u001b[0m, in \u001b[0;36mTextFileReader._make_engine\u001b[0;34m(self, f, engine)\u001b[0m\n\u001b[1;32m   1878\u001b[0m     \u001b[38;5;28;01mif\u001b[39;00m \u001b[38;5;124m\"\u001b[39m\u001b[38;5;124mb\u001b[39m\u001b[38;5;124m\"\u001b[39m \u001b[38;5;129;01mnot\u001b[39;00m \u001b[38;5;129;01min\u001b[39;00m mode:\n\u001b[1;32m   1879\u001b[0m         mode \u001b[38;5;241m+\u001b[39m\u001b[38;5;241m=\u001b[39m \u001b[38;5;124m\"\u001b[39m\u001b[38;5;124mb\u001b[39m\u001b[38;5;124m\"\u001b[39m\n\u001b[0;32m-> 1880\u001b[0m \u001b[38;5;28mself\u001b[39m\u001b[38;5;241m.\u001b[39mhandles \u001b[38;5;241m=\u001b[39m get_handle(\n\u001b[1;32m   1881\u001b[0m     f,\n\u001b[1;32m   1882\u001b[0m     mode,\n\u001b[1;32m   1883\u001b[0m     encoding\u001b[38;5;241m=\u001b[39m\u001b[38;5;28mself\u001b[39m\u001b[38;5;241m.\u001b[39moptions\u001b[38;5;241m.\u001b[39mget(\u001b[38;5;124m\"\u001b[39m\u001b[38;5;124mencoding\u001b[39m\u001b[38;5;124m\"\u001b[39m, \u001b[38;5;28;01mNone\u001b[39;00m),\n\u001b[1;32m   1884\u001b[0m     compression\u001b[38;5;241m=\u001b[39m\u001b[38;5;28mself\u001b[39m\u001b[38;5;241m.\u001b[39moptions\u001b[38;5;241m.\u001b[39mget(\u001b[38;5;124m\"\u001b[39m\u001b[38;5;124mcompression\u001b[39m\u001b[38;5;124m\"\u001b[39m, \u001b[38;5;28;01mNone\u001b[39;00m),\n\u001b[1;32m   1885\u001b[0m     memory_map\u001b[38;5;241m=\u001b[39m\u001b[38;5;28mself\u001b[39m\u001b[38;5;241m.\u001b[39moptions\u001b[38;5;241m.\u001b[39mget(\u001b[38;5;124m\"\u001b[39m\u001b[38;5;124mmemory_map\u001b[39m\u001b[38;5;124m\"\u001b[39m, \u001b[38;5;28;01mFalse\u001b[39;00m),\n\u001b[1;32m   1886\u001b[0m     is_text\u001b[38;5;241m=\u001b[39mis_text,\n\u001b[1;32m   1887\u001b[0m     errors\u001b[38;5;241m=\u001b[39m\u001b[38;5;28mself\u001b[39m\u001b[38;5;241m.\u001b[39moptions\u001b[38;5;241m.\u001b[39mget(\u001b[38;5;124m\"\u001b[39m\u001b[38;5;124mencoding_errors\u001b[39m\u001b[38;5;124m\"\u001b[39m, \u001b[38;5;124m\"\u001b[39m\u001b[38;5;124mstrict\u001b[39m\u001b[38;5;124m\"\u001b[39m),\n\u001b[1;32m   1888\u001b[0m     storage_options\u001b[38;5;241m=\u001b[39m\u001b[38;5;28mself\u001b[39m\u001b[38;5;241m.\u001b[39moptions\u001b[38;5;241m.\u001b[39mget(\u001b[38;5;124m\"\u001b[39m\u001b[38;5;124mstorage_options\u001b[39m\u001b[38;5;124m\"\u001b[39m, \u001b[38;5;28;01mNone\u001b[39;00m),\n\u001b[1;32m   1889\u001b[0m )\n\u001b[1;32m   1890\u001b[0m \u001b[38;5;28;01massert\u001b[39;00m \u001b[38;5;28mself\u001b[39m\u001b[38;5;241m.\u001b[39mhandles \u001b[38;5;129;01mis\u001b[39;00m \u001b[38;5;129;01mnot\u001b[39;00m \u001b[38;5;28;01mNone\u001b[39;00m\n\u001b[1;32m   1891\u001b[0m f \u001b[38;5;241m=\u001b[39m \u001b[38;5;28mself\u001b[39m\u001b[38;5;241m.\u001b[39mhandles\u001b[38;5;241m.\u001b[39mhandle\n",
      "File \u001b[0;32m/opt/anaconda3/envs/Alx_python/lib/python3.12/site-packages/pandas/io/common.py:873\u001b[0m, in \u001b[0;36mget_handle\u001b[0;34m(path_or_buf, mode, encoding, compression, memory_map, is_text, errors, storage_options)\u001b[0m\n\u001b[1;32m    868\u001b[0m \u001b[38;5;28;01melif\u001b[39;00m \u001b[38;5;28misinstance\u001b[39m(handle, \u001b[38;5;28mstr\u001b[39m):\n\u001b[1;32m    869\u001b[0m     \u001b[38;5;66;03m# Check whether the filename is to be opened in binary mode.\u001b[39;00m\n\u001b[1;32m    870\u001b[0m     \u001b[38;5;66;03m# Binary mode does not support 'encoding' and 'newline'.\u001b[39;00m\n\u001b[1;32m    871\u001b[0m     \u001b[38;5;28;01mif\u001b[39;00m ioargs\u001b[38;5;241m.\u001b[39mencoding \u001b[38;5;129;01mand\u001b[39;00m \u001b[38;5;124m\"\u001b[39m\u001b[38;5;124mb\u001b[39m\u001b[38;5;124m\"\u001b[39m \u001b[38;5;129;01mnot\u001b[39;00m \u001b[38;5;129;01min\u001b[39;00m ioargs\u001b[38;5;241m.\u001b[39mmode:\n\u001b[1;32m    872\u001b[0m         \u001b[38;5;66;03m# Encoding\u001b[39;00m\n\u001b[0;32m--> 873\u001b[0m         handle \u001b[38;5;241m=\u001b[39m \u001b[38;5;28mopen\u001b[39m(\n\u001b[1;32m    874\u001b[0m             handle,\n\u001b[1;32m    875\u001b[0m             ioargs\u001b[38;5;241m.\u001b[39mmode,\n\u001b[1;32m    876\u001b[0m             encoding\u001b[38;5;241m=\u001b[39mioargs\u001b[38;5;241m.\u001b[39mencoding,\n\u001b[1;32m    877\u001b[0m             errors\u001b[38;5;241m=\u001b[39merrors,\n\u001b[1;32m    878\u001b[0m             newline\u001b[38;5;241m=\u001b[39m\u001b[38;5;124m\"\u001b[39m\u001b[38;5;124m\"\u001b[39m,\n\u001b[1;32m    879\u001b[0m         )\n\u001b[1;32m    880\u001b[0m     \u001b[38;5;28;01melse\u001b[39;00m:\n\u001b[1;32m    881\u001b[0m         \u001b[38;5;66;03m# Binary mode\u001b[39;00m\n\u001b[1;32m    882\u001b[0m         handle \u001b[38;5;241m=\u001b[39m \u001b[38;5;28mopen\u001b[39m(handle, ioargs\u001b[38;5;241m.\u001b[39mmode)\n",
      "\u001b[0;31mFileNotFoundError\u001b[0m: [Errno 2] No such file or directory: 'heart_disease_train.csv'"
     ]
    }
   ],
   "source": [
    "df = pd.read_csv('heart_disease_train.csv')"
   ]
  },
  {
   "cell_type": "markdown",
   "id": "a9579129-077e-4108-82dc-c61be86f875a",
   "metadata": {},
   "source": [
    "# Display The Top 5 Rows"
   ]
  },
  {
   "cell_type": "code",
   "execution_count": null,
   "id": "601d5a40-e657-40bc-956b-9992b1c0c45f",
   "metadata": {},
   "outputs": [],
   "source": [
    "df.head()"
   ]
  },
  {
   "cell_type": "markdown",
   "id": "321b00e4-695e-4138-ab65-fca04e249c70",
   "metadata": {},
   "source": [
    "# Display The Bottom 5 Rows"
   ]
  },
  {
   "cell_type": "code",
   "execution_count": null,
   "id": "ada7971c-92ea-4ba4-8bdf-707754d66182",
   "metadata": {},
   "outputs": [],
   "source": [
    "df.tail()"
   ]
  },
  {
   "cell_type": "markdown",
   "id": "81a54bec-ca39-4ede-b7b2-ebf34632eb47",
   "metadata": {},
   "source": [
    "# Display The Shape of The Data and Summary Statistics"
   ]
  },
  {
   "cell_type": "code",
   "execution_count": null,
   "id": "d2af3676-1f71-464f-9c8b-781d1c2bc273",
   "metadata": {},
   "outputs": [],
   "source": [
    "df.shape"
   ]
  },
  {
   "cell_type": "code",
   "execution_count": null,
   "id": "199ca7b2-4d57-4fc7-83ba-2e052228b80f",
   "metadata": {},
   "outputs": [],
   "source": [
    "df.describe()"
   ]
  },
  {
   "cell_type": "markdown",
   "id": "86cd3cd5-495d-467d-b15d-8ee4e79eb6d8",
   "metadata": {},
   "source": [
    "Here’s a **short summary** based on our dataset description:\n",
    "\n",
    "-----------------------------------------------------------------------------------------------------------------\n",
    "\n",
    "🔵 **General**:  \n",
    "- There are **952 records** (patients).\n",
    "- The target variable (`target`) is **binary** (0 or 1), suggesting a **binary classification** problem (likely predicting presence or absence of heart disease).\n",
    "\n",
    "🔵 **Demographics**:  \n",
    "- **Age**: Mean age is about **54 years** (range from ~26 to ~89 years).\n",
    "- **Sex**: About **75% are male** (`sex` mean = 0.75, where 1 likely = male).\n",
    "\n",
    "🔵 **Health Features**:\n",
    "- **Chest pain type**: Mostly around types **3–4** (types are likely categorical).\n",
    "- **Resting blood pressure**: Average around **132 mm Hg** but some values are suspiciously **0** (possible data error or missing value placeholder).\n",
    "- **Cholesterol**: Average **209 mg/dL**, but again some entries are **0**, which is unlikely in reality (another possible missing value issue).\n",
    "\n",
    "🔵 **Exercise and Heart Health**:\n",
    "- **Max heart rate**: Average about **140 bpm**, ranging from ~58 to 202 bpm.\n",
    "- **Exercise-induced angina**: Present in about **41%** of the cases (`exercise.angina` mean = 0.41).\n",
    "- **Oldpeak** (ST depression): Ranges from **-2.6** to **6.2** — negative values seem unusual and may need investigation.\n",
    "\n",
    "🔵 **Other Observations**:\n",
    "- **Resting ECG** and **ST slope** seem to be **categorical features** based on limited distinct values.\n",
    "- Some features (like `resting.bp` and `cholesterol`) having minimum values of **0** suggests you may need **data cleaning** (e.g., replacing 0s with NaN and imputing).\n",
    "\n",
    "------------------------------------------------------------------------------------------------------------------\n",
    "\n",
    "**Quick Key Issues Noted**:\n",
    "- Some **zero values** where biologically impossible (blood pressure, cholesterol).\n",
    "- Possibly **imbalanced** classes (target mean ≈ 0.53 → roughly balanced but check exact counts).\n"
   ]
  },
  {
   "cell_type": "markdown",
   "id": "b459dfbb-77db-45de-8c7f-12c65af79d63",
   "metadata": {},
   "source": [
    "# Data Preprocessing"
   ]
  },
  {
   "cell_type": "code",
   "execution_count": null,
   "id": "417d0ac7-dc36-43a5-b632-d515225bea4f",
   "metadata": {},
   "outputs": [],
   "source": [
    "df.info()"
   ]
  },
  {
   "cell_type": "markdown",
   "id": "94ceaac2-66c9-424a-9f8e-ba2bfe830e0a",
   "metadata": {},
   "source": [
    "# Data Type Standardization"
   ]
  },
  {
   "cell_type": "markdown",
   "id": "ff3be067-6a59-4b7a-82f3-1c199d969499",
   "metadata": {},
   "source": [
    "The dataset structure is well standardized..."
   ]
  },
  {
   "cell_type": "markdown",
   "id": "42db4cc3-0362-43c1-b1e8-cc2f2cd7081c",
   "metadata": {},
   "source": [
    "# Handling Missing Data and Duplicates"
   ]
  },
  {
   "cell_type": "markdown",
   "id": "40315a92-026f-4c66-8286-28721b3bbdff",
   "metadata": {},
   "source": [
    "The dataset did not contain any missing values , ensuring data completeness..."
   ]
  },
  {
   "cell_type": "code",
   "execution_count": null,
   "id": "afd0ca7a-1ded-40d2-bf9b-2d2bd94d60dd",
   "metadata": {},
   "outputs": [],
   "source": [
    "df.isnull().sum()"
   ]
  },
  {
   "cell_type": "markdown",
   "id": "2771d352-b725-45f4-b58d-bcf3164633a4",
   "metadata": {},
   "source": [
    "# Outlier Detection and Treatment"
   ]
  },
  {
   "cell_type": "code",
   "execution_count": null,
   "id": "a2ee695b-728e-4ae8-a5a0-9882c1d65747",
   "metadata": {},
   "outputs": [],
   "source": [
    "# Melt the DataFrame for easier plotting\n",
    "df_melt = df.drop('ID', axis = 1)\n",
    "df_melted = df_melt.melt(var_name='Variable', value_name='Value')\n",
    "\n",
    "# Define a color palette\n",
    "palette = ['#FF9999','#66B2FF','#99FF99','#FFCC99','#FF6666','#66FFFF','#99FFCC','#CCFF66','#CC99FF','#FF99CC','#C2C2F0','#FFB3E6']\n",
    "\n",
    "# Create the box plot\n",
    "plt.figure(figsize=(12, 8))\n",
    "sns.boxplot(x='Variable', y='Value', data=df_melted, palette = palette)\n",
    "\n",
    "# Add title and labels\n",
    "plt.title('Before Removing Outliers')\n",
    "plt.xlabel('')\n",
    "plt.ylabel('Value')\n",
    "\n",
    "# Rotate x-axis labels\n",
    "plt.xticks(rotation=90)\n",
    "\n",
    "# Show the plot\n",
    "plt.show()"
   ]
  },
  {
   "cell_type": "code",
   "execution_count": null,
   "id": "95e58748-dffc-4c3d-9a71-13dc19f369e9",
   "metadata": {},
   "outputs": [],
   "source": [
    "def remove_heart_disease_outliers(df):\n",
    "    columns_to_check = ['age', 'cholesterol', 'resting.bp.s', 'max_heart_rate', 'oldpeak']\n",
    "    \n",
    "    # Apply IQR filtering\n",
    "    for column in columns_to_check:\n",
    "        if column in df.columns:\n",
    "            Q1 = df[column].quantile(0.25)\n",
    "            Q3 = df[column].quantile(0.75)\n",
    "            IQR = Q3 - Q1\n",
    "            lower_bound = Q1 - 1.5 * IQR\n",
    "            upper_bound = Q3 + 1.5 * IQR\n",
    "            df = df[(df[column] >= lower_bound) & (df[column] <= upper_bound)]\n",
    "    \n",
    "    # Apply domain-specific thresholds\n",
    "    if 'age' in df.columns:\n",
    "        df = df[(df['age'] >= 18) & (df['age'] <= 100)]\n",
    "    \n",
    "    if 'cholesterol' in df.columns:\n",
    "        df = df[(df['cholesterol'] >= 100) & (df['cholesterol'] <= 400)]\n",
    "    \n",
    "    if 'resting.bp.s' in df.columns:\n",
    "        df = df[(df['resting.bp.s'] >= 80) & (df['resting.bp.s'] <= 200)]\n",
    "    \n",
    "    if 'max_heart_rate' in df.columns:\n",
    "        df = df[(df['max_heart_rate'] >= 60) & (df['max_heart_rate'] <= 220)]\n",
    "\n",
    "    if 'oldpeak' in df.columns:\n",
    "        df = df[(df['oldpeak'] >= 0) & (df['oldpeak'] <= 6)]\n",
    "    \n",
    "    return df"
   ]
  },
  {
   "cell_type": "code",
   "execution_count": null,
   "id": "043c3efa-8b8b-45a6-831d-5fc25e701bff",
   "metadata": {},
   "outputs": [],
   "source": [
    "df = df.drop('ID', axis = 1)\n",
    "# Remove outliers\n",
    "df_cleaned = remove_heart_disease_outliers(df)\n",
    "\n",
    "# Melt the DataFrame for easier plotting\n",
    "df_melted = df_cleaned.melt(var_name='Variable', value_name='Value')\n",
    "\n",
    "# Define a color palette\n",
    "palette = ['#FF9999','#66B2FF','#99FF99','#FFCC99','#FF6666','#66FFFF','#99FFCC','#CCFF66','#CC99FF','#FF99CC','#C2C2F0','#FFB3E6']\n",
    "\n",
    "# Create the box plot with colored boxes\n",
    "plt.figure(figsize=(12, 8))\n",
    "sns.boxplot(x='Variable', y='Value', data=df_melted, palette=palette)\n",
    "\n",
    "# Add title and labels\n",
    "plt.title('After Removing Outliers')\n",
    "plt.xlabel('')\n",
    "plt.ylabel('Value')\n",
    "\n",
    "# Rotate x-axis labels\n",
    "plt.xticks(rotation=90)\n",
    "\n",
    "# Show the plot\n",
    "plt.show()"
   ]
  },
  {
   "cell_type": "code",
   "execution_count": null,
   "id": "b464783f-5c9a-4abe-a210-d4273e7989ce",
   "metadata": {},
   "outputs": [],
   "source": [
    "df_cleaned.shape"
   ]
  },
  {
   "cell_type": "markdown",
   "id": "0892809a-ad27-4b9b-8a27-8cacc3ef136b",
   "metadata": {},
   "source": [
    "After removing outliers, we are left with 767 observations"
   ]
  },
  {
   "cell_type": "markdown",
   "id": "02bbf4cc-ad0c-4a6f-9eb8-284678353028",
   "metadata": {},
   "source": [
    "# Encoding Categorical Variables"
   ]
  },
  {
   "cell_type": "markdown",
   "id": "a9b88195-6ee2-45d2-a596-d2af73a7a807",
   "metadata": {},
   "source": [
    "Binary categorical features (sex, fasting blood sugar, exercise angina) were pre-encoded as 0s and\n",
    "1s, simplifying their integration. Ordinal categorical features (chest pain type, resting ECG, ST slope)\n",
    "were handled by the Python library's inherent capabilities, eliminating the need for manual encoding."
   ]
  },
  {
   "cell_type": "markdown",
   "id": "b5ad4685-0e61-4a4f-9eec-0f833fe75a2f",
   "metadata": {},
   "source": [
    "# Exploratory Data Analysis (EDA)"
   ]
  },
  {
   "cell_type": "markdown",
   "id": "ba0b6424-840b-4314-aaa0-2442af5a3bb4",
   "metadata": {},
   "source": [
    "EDA is conducted to understand the distribution of features and analyze correlations between features and the target variable."
   ]
  },
  {
   "cell_type": "code",
   "execution_count": null,
   "id": "6cde9afe-8adb-4dfd-b727-4ca855b66536",
   "metadata": {},
   "outputs": [],
   "source": [
    "# Define the features to plot\n",
    "features = ['age', 'sex', 'chest.pain.type', 'resting.bp.s', 'cholesterol', 'fasting.blood.sugar',\n",
    "             'resting.ecg', 'max.heart.rate', 'exercise.angina', 'oldpeak', 'ST.slope', 'target']\n",
    "\n",
    "# Create a grid of subplots\n",
    "fig, axes = plt.subplots(4, 3, figsize=(15, 15))\n",
    "axes = axes.flatten()\n",
    "\n",
    "# Plot each feature\n",
    "for i, feature in enumerate(features):\n",
    "    sns.histplot(df_cleaned[feature], bins=10, kde=False, ax=axes[i])\n",
    "    axes[i].set_title(feature)\n",
    "\n",
    "# Adjust layout\n",
    "plt.tight_layout()\n",
    "plt.show()"
   ]
  },
  {
   "cell_type": "markdown",
   "id": "0d73a47b-276d-4d40-af49-aba9459934ae",
   "metadata": {},
   "source": [
    "Based on the histograms provided, we can make several observations about the distribution of the variables:\n",
    "\n",
    "1. **Age**:\n",
    "   - The distribution appears to be approximately normal, with a peak around the middle ages (50-60 years).\n",
    "   - There are fewer individuals in the younger and older age groups.\n",
    "\n",
    "2. **Sex**:\n",
    "   - This is a binary variable (0 and 1).\n",
    "   - The distribution is skewed, with more individuals belonging to one category (likely male or female).\n",
    "\n",
    "3. **Chest Pain Type**:\n",
    "   - This is a categorical variable with values ranging from 1 to 4.\n",
    "   - The distribution is not uniform, with some categories being more frequent than others.\n",
    "\n",
    "4. **Resting Blood Pressure (resting_bp_s)**:\n",
    "   - The distribution is approximately normal, with most values clustered around the mean.\n",
    "   - There are fewer individuals with very high or very low blood pressure.\n",
    "\n",
    "5. **Cholesterol**:\n",
    "   - The distribution is right-skewed, with a long tail towards higher values.\n",
    "   - Most individuals have cholesterol levels in the lower to middle range.\n",
    "\n",
    "6. **Fasting Blood Sugar (fasting_blood_sugar)**:\n",
    "   - This is a binary variable (0 and 1).\n",
    "   - The distribution is highly skewed, with most individuals having a value of 0 (likely indicating normal fasting blood sugar levels).\n",
    "\n",
    "7. **Resting ECG (resting_ecg)**:\n",
    "   - This is a categorical variable with values ranging from 0 to 2.\n",
    "   - The distribution is not uniform, with some categories being more frequent than others.\n",
    "\n",
    "8. **Maximum Heart Rate (max_heart_rate)**:\n",
    "   - The distribution is approximately normal, with most values clustered around the mean.\n",
    "   - There are fewer individuals with very high or very low maximum heart rates.\n",
    "\n",
    "9. **Exercise-Induced Angina (exercise_angina)**:\n",
    "   - This is a binary variable (0 and 1).\n",
    "   - The distribution is highly skewed, with most individuals having a value of 0 (likely indicating no exercise-induced angina).\n",
    "\n",
    "10. **Oldpeak**:\n",
    "    - The distribution is right-skewed, with most values clustered around the lower end.\n",
    "    - There are fewer individuals with higher oldpeak values.\n",
    "\n",
    "11. **ST Slope (ST_slope)**:\n",
    "    - This is a categorical variable with values ranging from 0 to 2.\n",
    "    - The distribution is not uniform, with some categories being more frequent than others.\n",
    "\n",
    "12. **Target**:\n",
    "    - This is a binary variable (0 and 1).\n",
    "    - The distribution is skewed, with more individuals belonging to one category (likely indicating the presence or absence of a condition).\n",
    "\n",
    "### General Observations:\n",
    "- **Normality**: Some variables like age and resting blood pressure appear to be approximately normally distributed.\n",
    "- **Skewness**: Variables like cholesterol, fasting blood sugar, and oldpeak are right-skewed.\n",
    "- **Categorical Variables**: Variables like sex, chest pain type, resting ECG, exercise-induced angina, ST slope, and target are categorical and show non-uniform distributions."
   ]
  },
  {
   "cell_type": "markdown",
   "id": "c21ccf11-fb6b-4f50-9b2c-5b6146540d0f",
   "metadata": {},
   "source": [
    "## Heatmaps"
   ]
  },
  {
   "cell_type": "code",
   "execution_count": null,
   "id": "ab953a6a-e9a2-4404-9afb-b3a2b47c9b08",
   "metadata": {},
   "outputs": [],
   "source": [
    "# Calculate the correlation matrix\n",
    "corr_matrix = df_cleaned.corr()\n",
    "\n",
    "# Create a mask for the upper triangle\n",
    "mask = np.triu(np.ones_like(corr_matrix, dtype=bool))\n",
    "\n",
    "# Set up the matplotlib figure\n",
    "plt.figure(figsize=(12, 10))\n",
    "\n",
    "# Draw the heatmap with the mask and correct aspect ratio\n",
    "sns.heatmap(corr_matrix, mask=mask, annot=True, fmt=\".2f\", cmap=\"coolwarm\", vmin=-0.4, vmax=0.4, cbar_kws={\"shrink\": .8})\n",
    "\n",
    "# Add title and labels\n",
    "plt.title('Correlation Matrix of Dataset Features')\n",
    "plt.xticks(rotation=90)\n",
    "plt.yticks(rotation=0)\n",
    "\n",
    "# Show the plot\n",
    "plt.show()"
   ]
  },
  {
   "cell_type": "markdown",
   "id": "e225acc7-bca5-4fa7-9576-29afb9147034",
   "metadata": {},
   "source": [
    "# Model Building and Evaluation"
   ]
  },
  {
   "cell_type": "markdown",
   "id": "49fc6f5c-ed6b-4516-baa3-9b52d7214927",
   "metadata": {},
   "source": [
    "## Logistic Regression"
   ]
  },
  {
   "cell_type": "code",
   "execution_count": null,
   "id": "1da7ac02-0c31-435d-b75a-7fd4c3cdcee1",
   "metadata": {},
   "outputs": [],
   "source": [
    "# Define the features (X) and the target (y)\n",
    "X = df_clean.drop('target', axis=1)\n",
    "y = df_clean['target']\n",
    "\n",
    "# Split the data into training and testing sets\n",
    "X_train, X_test, y_train, y_test = train_test_split(X, y, test_size=0.2, random_state=42)"
   ]
  },
  {
   "cell_type": "code",
   "execution_count": null,
   "id": "b9cb5b2d-4a3a-42e4-97ba-3a68360afa12",
   "metadata": {},
   "outputs": [],
   "source": [
    "# Train the logistic regression model\n",
    "model = LogisticRegression(max_iter=1000)\n",
    "model.fit(X_train, y_train)\n",
    "\n",
    "# Make predictions on the testing set\n",
    "y_pred = model.predict(X_test)"
   ]
  },
  {
   "cell_type": "markdown",
   "id": "694d1663-a62a-4ae4-a489-8c9d3311bd51",
   "metadata": {},
   "source": [
    "### LogReg Classification Report"
   ]
  },
  {
   "cell_type": "code",
   "execution_count": null,
   "id": "a50d10be-d786-4a31-8825-a11aeffcf1e6",
   "metadata": {},
   "outputs": [],
   "source": [
    "# Evaluate the model\n",
    "accuracy = accuracy_score(y_test, y_pred)\n",
    "conf_matrix = confusion_matrix(y_test, y_pred)\n",
    "class_report = classification_report(y_test, y_pred)\n",
    "\n",
    "# Print the results\n",
    "print(f'Accuracy: {accuracy}')\n",
    "print('Confusion Matrix:')\n",
    "print(conf_matrix)\n",
    "print('Classification Report:')\n",
    "print(class_report)"
   ]
  },
  {
   "cell_type": "markdown",
   "id": "8b273bbb-4ac2-4723-b1b8-2c1969541afc",
   "metadata": {},
   "source": [
    "### LogReg ROC-AUC"
   ]
  },
  {
   "cell_type": "code",
   "execution_count": null,
   "id": "db7528bc-aa6a-42b9-b15b-9eab6ca42404",
   "metadata": {},
   "outputs": [],
   "source": [
    "# Make predictions on the testing set\n",
    "y_pred_proba = model.predict_proba(X_test)[:, 1]\n",
    "\n",
    "# Calculate the ROC-AUC score\n",
    "roc_auc = roc_auc_score(y_test, y_pred_proba)\n",
    "\n",
    "# Print the ROC-AUC score\n",
    "print(f'ROC-AUC Score: {roc_auc}')\n",
    "\n",
    "# Plot the ROC curve\n",
    "fpr, tpr, _ = roc_curve(y_test, y_pred_proba)\n",
    "plt.figure()\n",
    "plt.plot(fpr, tpr, color='darkorange', lw=2, label='ROC curve (area = %0.2f)' % roc_auc)\n",
    "plt.plot([0, 1], [0, 1], color='navy', lw=2, linestyle='--')\n",
    "plt.xlim([0.0, 1.0])\n",
    "plt.ylim([0.0, 1.05])\n",
    "plt.xlabel('False Positive Rate')\n",
    "plt.ylabel('True Positive Rate')\n",
    "plt.title('Receiver Operating Characteristic')\n",
    "plt.legend(loc=\"lower right\")\n",
    "plt.show()"
   ]
  },
  {
   "cell_type": "markdown",
   "id": "d913061c-f60a-4d85-93ca-70c3f715ed89",
   "metadata": {},
   "source": [
    "In summary, this ROC curve indicates that the model being evaluated has strong performance, as evidenced by the high ROC-AUC score and the curve's position close to the top-left corner of the plot."
   ]
  },
  {
   "cell_type": "markdown",
   "id": "5d276f65-f2e9-4a26-9cbd-a79b077e5d25",
   "metadata": {},
   "source": [
    "## Linear Discriminant Analysis"
   ]
  },
  {
   "cell_type": "code",
   "execution_count": null,
   "id": "a6ebaaee-2efd-416a-8965-b18546da6db0",
   "metadata": {},
   "outputs": [],
   "source": [
    "# Define the features (X) and the target (y)\n",
    "X_lda = df_clean.drop('target', axis=1)\n",
    "y_lda = df_clean['target']\n",
    "\n",
    "# Split the data into training and testing sets\n",
    "X_train_lda, X_test_lda, y_train_lda, y_test_lda = train_test_split(X_lda, y_lda, test_size=0.2, random_state=42)"
   ]
  },
  {
   "cell_type": "code",
   "execution_count": null,
   "id": "dfd4c4a1-cdd1-44c5-9dee-c51502e82fe9",
   "metadata": {},
   "outputs": [],
   "source": [
    "# Train the LDA model\n",
    "lda = LinearDiscriminantAnalysis()\n",
    "lda.fit(X_train_lda, y_train_lda)\n",
    "\n",
    "# Make predictions on the testing set\n",
    "y_pred_lda = lda.predict(X_test_lda)"
   ]
  },
  {
   "cell_type": "markdown",
   "id": "d1d24d5f-91fd-4ac3-824a-46e6d1bdfcc7",
   "metadata": {},
   "source": [
    "### LDA Classification Report"
   ]
  },
  {
   "cell_type": "code",
   "execution_count": null,
   "id": "c56f8b19-f6f9-4f67-9e08-49d94df603f4",
   "metadata": {},
   "outputs": [],
   "source": [
    "# Evaluate the model\n",
    "accuracy_lda = accuracy_score(y_test_lda, y_pred_lda)\n",
    "conf_matrix_lda = confusion_matrix(y_test_lda, y_pred_lda)\n",
    "class_report_lda = classification_report(y_test_lda, y_pred_lda)\n",
    "\n",
    "# Print the results\n",
    "print(f'Accuracy: {accuracy_lda}')\n",
    "print('Confusion Matrix:')\n",
    "print(conf_matrix_lda)\n",
    "print('Classification Report:')\n",
    "print(class_report_lda)"
   ]
  },
  {
   "cell_type": "markdown",
   "id": "904add90-90b2-4ae2-aa8a-a7ea13275b2d",
   "metadata": {},
   "source": [
    "### LDA ROC-AUC"
   ]
  },
  {
   "cell_type": "code",
   "execution_count": null,
   "id": "ff20d1c0-2b7d-479b-a6ea-9549c3242001",
   "metadata": {},
   "outputs": [],
   "source": [
    "# Make predictions on the testing set\n",
    "y_pred_proba_lda = lda.predict_proba(X_test_lda)[:, 1]\n",
    "\n",
    "# Calculate the ROC-AUC score\n",
    "roc_auc_lda = roc_auc_score(y_test_lda, y_pred_proba_lda)\n",
    "\n",
    "# Print the ROC-AUC score\n",
    "print(f'ROC-AUC Score: {roc_auc_lda}')\n",
    "\n",
    "# Plot the ROC curve\n",
    "fpr_lda, tpr_lda, _ = roc_curve(y_test_lda, y_pred_proba_lda)\n",
    "plt.figure()\n",
    "plt.plot(fpr_lda, tpr_lda, color='darkorange', lw=2, label='ROC curve (area = %0.2f)' % roc_auc_lda)\n",
    "plt.plot([0, 1], [0, 1], color='navy', lw=2, linestyle='--')\n",
    "plt.xlim([0.0, 1.0])\n",
    "plt.ylim([0.0, 1.05])\n",
    "plt.xlabel('False Positive Rate')\n",
    "plt.ylabel('True Positive Rate')\n",
    "plt.title('Receiver Operating Characteristic')\n",
    "plt.legend(loc=\"lower right\")\n",
    "plt.show()"
   ]
  },
  {
   "cell_type": "markdown",
   "id": "cd95de62-6c90-42ea-8112-bf66e26da282",
   "metadata": {},
   "source": [
    "## Naive Bayes (NB)"
   ]
  },
  {
   "cell_type": "code",
   "execution_count": null,
   "id": "31e708b2-25a0-4a83-9482-2a29f9247a96",
   "metadata": {},
   "outputs": [],
   "source": [
    "# Define the features (X) and the target (y)\n",
    "X_nb = df_clean.drop('target', axis=1)\n",
    "y_nb = df_clean['target']\n",
    "\n",
    "# Split the data into training and testing sets\n",
    "X_train_nb, X_test_nb, y_train_nb, y_test_nb = train_test_split(X_nb, y_nb, test_size=0.2, random_state=42)"
   ]
  },
  {
   "cell_type": "code",
   "execution_count": null,
   "id": "e961916c-5ac3-4cfb-b856-7f364b565f2d",
   "metadata": {},
   "outputs": [],
   "source": [
    "# Train the Naive Bayes model\n",
    "nb_model = GaussianNB()\n",
    "nb_model.fit(X_train_nb, y_train_nb)\n",
    "\n",
    "# Make predictions on the testing set\n",
    "y_pred_nb = nb_model.predict(X_test_nb)"
   ]
  },
  {
   "cell_type": "markdown",
   "id": "731278bd-3e55-451b-8035-87ede79e4e4a",
   "metadata": {},
   "source": [
    "### Naive Bayes Classification Report"
   ]
  },
  {
   "cell_type": "code",
   "execution_count": null,
   "id": "5d998302-548f-4429-a494-ecc96d5f472e",
   "metadata": {},
   "outputs": [],
   "source": [
    "# Evaluate the model\n",
    "accuracy_nb = accuracy_score(y_test_nb, y_pred_nb)\n",
    "conf_matrix_nb = confusion_matrix(y_test_nb, y_pred_nb)\n",
    "class_report_nb = classification_report(y_test_nb, y_pred_nb)\n",
    "\n",
    "# Print the results\n",
    "print(f'Accuracy: {accuracy_nb}')\n",
    "print('Confusion Matrix:')\n",
    "print(conf_matrix_nb)\n",
    "print('Classification Report:')\n",
    "print(class_report_nb)"
   ]
  },
  {
   "cell_type": "code",
   "execution_count": null,
   "id": "0ae0c824-a39a-4f8d-9ead-66f84585f2bf",
   "metadata": {},
   "outputs": [],
   "source": [
    "# Make predictions on the testing set\n",
    "y_pred_proba_nb = nb_model.predict_proba(X_test_nb)[:, 1]\n",
    "\n",
    "# Calculate the ROC-AUC score\n",
    "roc_auc_nb = roc_auc_score(y_test_nb, y_pred_proba_nb)\n",
    "\n",
    "# Print the ROC-AUC score\n",
    "print(f'ROC-AUC Score: {roc_auc_nb}')\n",
    "\n",
    "# Plot the ROC curve\n",
    "fpr_nb, tpr_nb, _ = roc_curve(y_test_nb, y_pred_proba_nb)\n",
    "plt.figure()\n",
    "plt.plot(fpr_nb, tpr_nb, color='darkorange', lw=2, label='ROC curve (area = %0.2f)' % roc_auc_nb)\n",
    "plt.plot([0, 1], [0, 1], color='navy', lw=2, linestyle='--')\n",
    "plt.xlim([0.0, 1.0])\n",
    "plt.ylim([0.0, 1.05])\n",
    "plt.xlabel('False Positive Rate')\n",
    "plt.ylabel('True Positive Rate')\n",
    "plt.title('Receiver Operating Characteristic')\n",
    "plt.legend(loc=\"lower right\")\n",
    "plt.show()"
   ]
  },
  {
   "cell_type": "markdown",
   "id": "1da7b433-add2-412c-9aac-1685044f8701",
   "metadata": {},
   "source": [
    "## KNearest Neigbors"
   ]
  },
  {
   "cell_type": "code",
   "execution_count": null,
   "id": "84a2e619-e7e9-4667-94b9-2c963681f07b",
   "metadata": {},
   "outputs": [],
   "source": [
    "# Define the features (X) and the target (y)\n",
    "X_knn = df_clean.drop('target', axis=1)\n",
    "y_knn = df_clean['target']\n",
    "\n",
    "# Split the data into training and testing sets\n",
    "X_train_knn, X_test_knn, y_train_knn, y_test_knn = train_test_split(X_knn, y_knn, test_size=0.2, random_state=42)"
   ]
  },
  {
   "cell_type": "code",
   "execution_count": null,
   "id": "0f8a3dbf-73ec-4060-a55d-73886b449c8b",
   "metadata": {},
   "outputs": [],
   "source": [
    "# Train the KNN model\n",
    "knn = KNeighborsClassifier(n_neighbors=5)  # You can adjust the number of neighbors\n",
    "knn.fit(X_train_knn, y_train_knn)\n",
    "\n",
    "# Make predictions on the testing set\n",
    "y_pred_knn = knn.predict(X_test_knn)"
   ]
  },
  {
   "cell_type": "markdown",
   "id": "7ab96001-88ce-430d-854a-bb89fc5e7902",
   "metadata": {},
   "source": [
    "### KNN Classification Report"
   ]
  },
  {
   "cell_type": "code",
   "execution_count": null,
   "id": "dceafe74-9f06-4413-b297-1c61eb10cb8d",
   "metadata": {},
   "outputs": [],
   "source": [
    "# Evaluate the model\n",
    "accuracy_knn = accuracy_score(y_test_knn, y_pred_knn)\n",
    "conf_matrix_knn = confusion_matrix(y_test_knn, y_pred_knn)\n",
    "class_report_knn = classification_report(y_test_knn, y_pred_knn)\n",
    "\n",
    "# Print the results\n",
    "print(f'Accuracy: {accuracy_knn}')\n",
    "print('Confusion Matrix:')\n",
    "print(conf_matrix_knn)\n",
    "print('Classification Report:')\n",
    "print(class_report_knn)"
   ]
  },
  {
   "cell_type": "markdown",
   "id": "146bc124-e273-4034-a70d-abf647356700",
   "metadata": {},
   "source": [
    "### KNN ROC-AUC"
   ]
  },
  {
   "cell_type": "code",
   "execution_count": null,
   "id": "715f2453-9614-49e4-abc7-f6250db15f71",
   "metadata": {},
   "outputs": [],
   "source": [
    "# Make predictions on the testing set\n",
    "y_pred_proba_knn = knn.predict_proba(X_test_knn)[:, 1]\n",
    "\n",
    "# Calculate the ROC-AUC score\n",
    "roc_auc_knn = roc_auc_score(y_test_knn, y_pred_proba_knn)\n",
    "\n",
    "# Print the ROC-AUC score\n",
    "print(f'ROC-AUC Score: {roc_auc_knn}')\n",
    "\n",
    "# Plot the ROC curve\n",
    "fpr_knn, tpr_knn, _ = roc_curve(y_test_knn, y_pred_proba_knn)\n",
    "plt.figure()\n",
    "plt.plot(fpr_knn, tpr_knn, color='darkorange', lw=2, label='ROC curve (area = %0.2f)' % roc_auc_knn)\n",
    "plt.plot([0, 1], [0, 1], color='navy', lw=2, linestyle='--')\n",
    "plt.xlim([0.0, 1.0])\n",
    "plt.ylim([0.0, 1.05])\n",
    "plt.xlabel('False Positive Rate')\n",
    "plt.ylabel('True Positive Rate')\n",
    "plt.title('Receiver Operating Characteristic')\n",
    "plt.legend(loc=\"lower right\")\n",
    "plt.show()"
   ]
  },
  {
   "cell_type": "markdown",
   "id": "9b215b11-b70d-4dc7-bbe0-04120e237c21",
   "metadata": {},
   "source": [
    "## Decision Tree Classifier"
   ]
  },
  {
   "cell_type": "code",
   "execution_count": null,
   "id": "984268a5-79b3-4b5b-8366-b0853128c550",
   "metadata": {},
   "outputs": [],
   "source": [
    "from sklearn.tree import plot_tree"
   ]
  },
  {
   "cell_type": "code",
   "execution_count": null,
   "id": "14100121-17ef-4934-9cc7-b0449ff284f4",
   "metadata": {},
   "outputs": [],
   "source": [
    "# Define the features (X) and the target (y)\n",
    "X_dt = df_clean.drop('target', axis=1)\n",
    "y_dt = df_clean['target']\n",
    "\n",
    "# Split the data into training and testing sets\n",
    "X_train_dt, X_test_dt, y_train_dt, y_test_dt = train_test_split(X_dt, y_dt, test_size=0.2, random_state=42)"
   ]
  },
  {
   "cell_type": "code",
   "execution_count": null,
   "id": "1f1358da-4aaf-4227-87ec-1b12a4ae58ae",
   "metadata": {},
   "outputs": [],
   "source": [
    "# Train the Decision Tree model\n",
    "dt_model = DecisionTreeClassifier(random_state=42)\n",
    "dt_model.fit(X_train_dt, y_train_dt)\n",
    "\n",
    "# Make predictions on the testing set\n",
    "y_pred_dt = dt_model.predict(X_test_dt)"
   ]
  },
  {
   "cell_type": "code",
   "execution_count": null,
   "id": "aa70dc8b-fc30-4bc7-a9ea-015efbaaf52b",
   "metadata": {},
   "outputs": [],
   "source": [
    "# Evaluate the model\n",
    "accuracy_dt = accuracy_score(y_test_dt, y_pred_dt)\n",
    "conf_matrix_dt = confusion_matrix(y_test_dt, y_pred_dt)\n",
    "class_report_dt = classification_report(y_test_dt, y_pred_dt)\n",
    "\n",
    "# Print the results\n",
    "print(f'Accuracy: {accuracy_dt}')\n",
    "print('Confusion Matrix:')\n",
    "print(conf_matrix_dt)\n",
    "print('Classification Report:')\n",
    "print(class_report_dt)"
   ]
  },
  {
   "cell_type": "code",
   "execution_count": null,
   "id": "b4044bf9-1f46-434b-a2c1-d2dfcd384961",
   "metadata": {},
   "outputs": [],
   "source": [
    "# Visualize the decision tree\n",
    "plt.figure(figsize=(20, 10))\n",
    "plot_tree(dt_model, filled=True, feature_names=X_dt.columns, class_names=['No', 'Yes'], rounded=True)\n",
    "plt.show()"
   ]
  },
  {
   "cell_type": "markdown",
   "id": "da8b2e33-74ae-4a1a-993a-6c1932f2c6ba",
   "metadata": {},
   "source": [
    "### Decision Tree Classifier ROC-AUC"
   ]
  },
  {
   "cell_type": "code",
   "execution_count": null,
   "id": "287dd7b1-6683-46da-93d4-9e5cd74085ea",
   "metadata": {},
   "outputs": [],
   "source": [
    "# Make predictions on the testing set\n",
    "y_pred_proba_dt = dt_model.predict_proba(X_test_dt)[:, 1]\n",
    "\n",
    "# Calculate the ROC-AUC score\n",
    "roc_auc_dt = roc_auc_score(y_test_dt, y_pred_proba_dt)\n",
    "\n",
    "# Print the ROC-AUC score\n",
    "print(f'ROC-AUC Score: {roc_auc_dt}')\n",
    "\n",
    "# Plot the ROC curve\n",
    "fpr_dt, tpr_dt, _ = roc_curve(y_test_dt, y_pred_proba_dt)\n",
    "plt.figure()\n",
    "plt.plot(fpr_dt, tpr_dt, color='darkorange', lw=2, label='ROC curve (area = %0.2f)' % roc_auc_dt)\n",
    "plt.plot([0, 1], [0, 1], color='navy', lw=2, linestyle='--')\n",
    "plt.xlim([0.0, 1.0])\n",
    "plt.ylim([0.0, 1.05])\n",
    "plt.xlabel('False Positive Rate')\n",
    "plt.ylabel('True Positive Rate')\n",
    "plt.title('Receiver Operating Characteristic')\n",
    "plt.legend(loc=\"lower right\")\n",
    "plt.show()"
   ]
  },
  {
   "cell_type": "markdown",
   "id": "db2b9d63-0383-40f1-aef2-4c4d315b7f9e",
   "metadata": {},
   "source": [
    "## Random Forest Classifier"
   ]
  },
  {
   "cell_type": "code",
   "execution_count": null,
   "id": "0a9049a4-3ed5-41f1-a01e-dadddf30020e",
   "metadata": {},
   "outputs": [],
   "source": [
    "# Define the features (X) and the target (y)\n",
    "X_rf = df_clean.drop('target', axis=1)\n",
    "y_rf = df_clean['target']\n",
    "\n",
    "# Split the data into training and testing sets\n",
    "X_train_rf, X_test_rf, y_train_rf, y_test_rf = train_test_split(X_rf, y_rf, test_size=0.2, random_state=42)"
   ]
  },
  {
   "cell_type": "code",
   "execution_count": null,
   "id": "0ad8cbbd-a0c0-4d76-9476-b3704b6d8782",
   "metadata": {},
   "outputs": [],
   "source": [
    "# Train the Random Forest model\n",
    "rf_model = RandomForestClassifier(n_estimators=100, random_state=42)\n",
    "rf_model.fit(X_train_rf, y_train_rf)\n",
    "\n",
    "# Make predictions on the testing set\n",
    "y_pred_rf = rf_model.predict(X_test_rf)"
   ]
  },
  {
   "cell_type": "code",
   "execution_count": null,
   "id": "89927c26-de36-4a2c-9bf4-c006c81e8ba2",
   "metadata": {},
   "outputs": [],
   "source": [
    "# Evaluate the model\n",
    "accuracy_rf = accuracy_score(y_test_rf, y_pred_rf)\n",
    "conf_matrix_rf = confusion_matrix(y_test_rf, y_pred_rf)\n",
    "class_report_rf = classification_report(y_test_rf, y_pred_rf)\n",
    "\n",
    "# Print the results\n",
    "print(f'Accuracy: {accuracy_rf}')\n",
    "print('Confusion Matrix:')\n",
    "print(conf_matrix_rf)\n",
    "print('Classification Report:')\n",
    "print(class_report_rf)"
   ]
  },
  {
   "cell_type": "markdown",
   "id": "15f3c84c-8cc3-4b27-b5c5-c6b3ad0ee7a6",
   "metadata": {},
   "source": [
    "### Random Forest ROC-AUC"
   ]
  },
  {
   "cell_type": "code",
   "execution_count": null,
   "id": "e2a43b42-44ee-49ce-9d33-1734c7ff4e8a",
   "metadata": {},
   "outputs": [],
   "source": [
    "# Make predictions on the testing set\n",
    "y_pred_proba_rf = rf_model.predict_proba(X_test_rf)[:, 1]\n",
    "\n",
    "# Calculate the ROC-AUC score\n",
    "roc_auc_rf = roc_auc_score(y_test_rf, y_pred_proba_rf)\n",
    "\n",
    "# Print the ROC-AUC score\n",
    "print(f'ROC-AUC Score: {roc_auc_rf}')\n",
    "\n",
    "# Plot the ROC curve\n",
    "fpr_rf, tpr_rf, _ = roc_curve(y_test_rf, y_pred_proba_rf)\n",
    "plt.figure()\n",
    "plt.plot(fpr_rf, tpr_rf, color='darkorange', lw=2, label='ROC curve (area = %0.2f)' % roc_auc_rf)\n",
    "plt.plot([0, 1], [0, 1], color='navy', lw=2, linestyle='--')\n",
    "plt.xlim([0.0, 1.0])\n",
    "plt.ylim([0.0, 1.05])\n",
    "plt.xlabel('False Positive Rate')\n",
    "plt.ylabel('True Positive Rate')\n",
    "plt.title('Receiver Operating Characteristic')\n",
    "plt.legend(loc=\"lower right\")\n",
    "plt.show()"
   ]
  },
  {
   "cell_type": "code",
   "execution_count": null,
   "id": "711c686b-5a6a-40fc-a126-3f05ed091235",
   "metadata": {},
   "outputs": [],
   "source": [
    "from sklearn.model_selection import GridSearchCV"
   ]
  },
  {
   "cell_type": "code",
   "execution_count": null,
   "id": "7687bedb-5fc2-4f5b-9076-89ad008daa1a",
   "metadata": {},
   "outputs": [],
   "source": [
    "# Define the parameter grid\n",
    "param_grid = {\n",
    "    'n_estimators': [50, 100, 200],\n",
    "    'max_depth': [None, 10, 20, 30],\n",
    "    'min_samples_split': [2, 5, 10],\n",
    "    'min_samples_leaf': [1, 2, 4]\n",
    "}\n",
    "\n",
    "# Initialize the Random Forest model\n",
    "rf_model = RandomForestClassifier(random_state=42)\n",
    "\n",
    "# Perform Grid Search with cross-validation\n",
    "grid_search = GridSearchCV(estimator=rf_model, param_grid=param_grid, cv=5, scoring='accuracy')\n",
    "grid_search.fit(X_rf, y_rf)\n",
    "\n",
    "# Print the best parameters and best score\n",
    "print(f'Best Parameters: {grid_search.best_params_}')\n",
    "print(f'Best CV Score: {grid_search.best_score_}')"
   ]
  },
  {
   "cell_type": "markdown",
   "id": "1ff961b0-1b80-4c33-8828-fa641d23f277",
   "metadata": {},
   "source": [
    "## Support Vector Classification"
   ]
  },
  {
   "cell_type": "code",
   "execution_count": null,
   "id": "a92a91d0-b21f-4781-a2ee-e51c1e6e3248",
   "metadata": {},
   "outputs": [],
   "source": [
    "# Define the features (X) and the target (y)\n",
    "X_svc = df_clean.drop('target', axis=1)\n",
    "y_svc = df_clean['target']"
   ]
  },
  {
   "cell_type": "code",
   "execution_count": null,
   "id": "ce7c9153-85e0-4286-b993-1b2ab97380a4",
   "metadata": {},
   "outputs": [],
   "source": [
    "# Standardize the features\n",
    "scaler = StandardScaler()\n",
    "X_scaled = scaler.fit_transform(X_svc)\n",
    "\n",
    "# Split the data into training and testing sets\n",
    "X_train_svc, X_test_svc, y_train_svc, y_test_svc = train_test_split(X_scaled, y_svc, test_size=0.2, random_state=42)"
   ]
  },
  {
   "cell_type": "code",
   "execution_count": null,
   "id": "96999685-1dac-4467-899a-b58ee19a8236",
   "metadata": {},
   "outputs": [],
   "source": [
    "# Train the SVC model\n",
    "svc_model = SVC(kernel='linear', probability=True, random_state=42)\n",
    "svc_model.fit(X_train_svc, y_train_svc)\n",
    "\n",
    "# Make predictions on the testing set\n",
    "y_pred_svc = svc_model.predict(X_test_svc)"
   ]
  },
  {
   "cell_type": "markdown",
   "id": "44dbcbbd-899d-4016-a0c0-a8bbea8f6679",
   "metadata": {},
   "source": [
    "### Support Vector Classification Report"
   ]
  },
  {
   "cell_type": "code",
   "execution_count": null,
   "id": "0e3cb07a-92b6-473f-ab0b-4aa8688a5c13",
   "metadata": {},
   "outputs": [],
   "source": [
    "# Evaluate the model\n",
    "accuracy_svc = accuracy_score(y_test_svc, y_pred_svc)\n",
    "conf_matrix_svc = confusion_matrix(y_test_svc, y_pred_svc)\n",
    "class_report_svc = classification_report(y_test_svc, y_pred_svc)\n",
    "\n",
    "# Print the results\n",
    "print(f'Accuracy: {accuracy_svc}')\n",
    "print('Confusion Matrix:')\n",
    "print(conf_matrix_svc)\n",
    "print('Classification Report:')\n",
    "print(class_report_svc)"
   ]
  },
  {
   "cell_type": "markdown",
   "id": "649a944c-6ef2-4f17-88b3-896dc8bcc247",
   "metadata": {},
   "source": [
    "### Support Vector Classifier ROC-AUC"
   ]
  },
  {
   "cell_type": "code",
   "execution_count": null,
   "id": "2ac51f13-829a-4d2d-9e0b-0d03931205ba",
   "metadata": {},
   "outputs": [],
   "source": [
    "# Make predictions on the testing set\n",
    "y_pred_proba_svc = svc_model.predict_proba(X_test_svc)[:, 1]\n",
    "\n",
    "# Calculate the ROC-AUC score\n",
    "roc_auc_svc = roc_auc_score(y_test_svc, y_pred_proba_svc)\n",
    "\n",
    "# Print the ROC-AUC score\n",
    "print(f'ROC-AUC Score: {roc_auc_svc}')\n",
    "\n",
    "# Plot the ROC curve\n",
    "fpr_svc, tpr_svc, _ = roc_curve(y_test_svc, y_pred_proba_svc)\n",
    "plt.figure()\n",
    "plt.plot(fpr_svc, tpr_svc, color='darkorange', lw=2, label='ROC curve (area = %0.2f)' % roc_auc_svc)\n",
    "plt.plot([0, 1], [0, 1], color='navy', lw=2, linestyle='--')\n",
    "plt.xlim([0.0, 1.0])\n",
    "plt.ylim([0.0, 1.05])\n",
    "plt.xlabel('False Positive Rate')\n",
    "plt.ylabel('True Positive Rate')\n",
    "plt.title('Receiver Operating Characteristic')\n",
    "plt.legend(loc=\"lower right\")\n",
    "plt.show()"
   ]
  },
  {
   "cell_type": "markdown",
   "id": "966312a8-720f-4190-a213-89dc41681d5c",
   "metadata": {},
   "source": [
    "# Model Selection and Feature Importance"
   ]
  },
  {
   "cell_type": "code",
   "execution_count": null,
   "id": "6bd1aa3e-b681-41dd-acf5-841e17122c09",
   "metadata": {},
   "outputs": [],
   "source": [
    "# Train the Random Forest model\n",
    "rf_model = RandomForestClassifier(n_estimators=100, random_state=42)\n",
    "rf_model.fit(X_train_rf, y_train_rf)\n",
    "\n",
    "# Get the feature importances\n",
    "importances = rf_model.feature_importances_\n",
    "\n",
    "# Create a pandas series with feature names\n",
    "feature_importances = pd.Series(importances, index=X_train_rf.columns)\n",
    "\n",
    "# Sort features by importance\n",
    "feature_importances = feature_importances.sort_values(ascending=False)"
   ]
  },
  {
   "cell_type": "markdown",
   "id": "436283a0-d14a-46cb-8e1d-8f51060971c4",
   "metadata": {},
   "source": [
    "## Plot Features"
   ]
  },
  {
   "cell_type": "code",
   "execution_count": null,
   "id": "4914bb8b-a5e8-4d55-b87d-67e9d9286ed3",
   "metadata": {},
   "outputs": [],
   "source": [
    "# Plot\n",
    "plt.figure(figsize=(10, 6))\n",
    "feature_importances.plot(kind='bar')\n",
    "plt.title('Feature Importances from Random Forest')\n",
    "plt.ylabel('Importance Score')\n",
    "plt.xlabel('Features')\n",
    "plt.tight_layout()\n",
    "plt.show()"
   ]
  },
  {
   "cell_type": "markdown",
   "id": "0ea3ae5b-4d73-492b-a4bd-c8e7ee3d80f7",
   "metadata": {},
   "source": [
    "## Saving the Model"
   ]
  },
  {
   "cell_type": "code",
   "execution_count": null,
   "id": "ff444332-4fd1-47fe-89db-e897767810d6",
   "metadata": {},
   "outputs": [],
   "source": [
    "import pickle"
   ]
  },
  {
   "cell_type": "code",
   "execution_count": null,
   "id": "3a65b36e-52ca-4a35-82bd-c1580c6639ba",
   "metadata": {},
   "outputs": [],
   "source": [
    "filename = 'heart_disease_model.sav'\n",
    "pickle.dump(rf_model, open(filename, 'wb'))"
   ]
  },
  {
   "cell_type": "code",
   "execution_count": null,
   "id": "9b05ec22-6fe3-4299-9374-a71bd5919533",
   "metadata": {},
   "outputs": [],
   "source": [
    "# loading the saved model\n",
    "loaded_model = pickle.load(open('heart_disease_model.sav', 'rb'))"
   ]
  },
  {
   "cell_type": "code",
   "execution_count": null,
   "id": "8b0ffa3a-c699-4206-9a0d-be6440eabd25",
   "metadata": {},
   "outputs": [],
   "source": [
    "for column in X_train_rf.columns:\n",
    "  print(column)"
   ]
  }
 ],
 "metadata": {
  "kernelspec": {
   "display_name": "Python 3 (ipykernel)",
   "language": "python",
   "name": "python3"
  },
  "language_info": {
   "codemirror_mode": {
    "name": "ipython",
    "version": 3
   },
   "file_extension": ".py",
   "mimetype": "text/x-python",
   "name": "python",
   "nbconvert_exporter": "python",
   "pygments_lexer": "ipython3",
   "version": "3.12.8"
  }
 },
 "nbformat": 4,
 "nbformat_minor": 5
}
